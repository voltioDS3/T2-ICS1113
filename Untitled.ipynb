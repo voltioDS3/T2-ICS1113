{
 "cells": [
  {
   "cell_type": "code",
   "execution_count": 1,
   "id": "5acf6b30-4c0a-49de-acc6-ef232d1cab22",
   "metadata": {},
   "outputs": [],
   "source": [
    "import pandas as pd\n",
    "from os import path\n",
    "BASE_CSV = \"./csv\"\n",
    "RUTAS = {\n",
    "    \"F_i\": path.join(BASE_CSV, \"costo_fijo.csv\"),\n",
    "    \"c_j\": path.join(BASE_CSV, \"costo_material.csv\"),\n",
    "    \"rho_i\": path.join(BASE_CSV, \"costo_variable.csv\"),\n",
    "    \"r_i\": path.join(BASE_CSV, \"ingreso_por_unidad.csv\"),\n",
    "    \"b_j\": path.join(BASE_CSV, \"material_disponible.csv\"),\n",
    "    \"a_ij\": path.join(BASE_CSV, \"material_requerido.csv\"),\n",
    "    \"N\": path.join(BASE_CSV, \"maximo_productos.csv\"),\n",
    "    \"W\": path.join(BASE_CSV, \"presupuesto_materiales.csv\"),\n",
    "    \"P_i\": path.join(BASE_CSV, \"productos_prohibidos.csv\"),\n",
    "}"
   ]
  },
  {
   "cell_type": "code",
   "execution_count": 32,
   "id": "16e29627-ac5c-46c1-adc9-7de53bd656d3",
   "metadata": {},
   "outputs": [
    {
     "name": "stdout",
     "output_type": "stream",
     "text": [
      "[173, 90, 56, 153, 194, 174, 175, 78, 195]\n",
      "9\n"
     ]
    }
   ],
   "source": [
    "F_i = pd.read_csv(RUTAS[\"F_i\"],index_col=None,header=None)\n",
    "print(F_i[0].tolist())\n",
    "F_i = pd.read_csv(RUTAS[\"F_i\"],index_col=None,header=None)[0].tolist()\n",
    "print(len(F_i))"
   ]
  },
  {
   "cell_type": "code",
   "execution_count": null,
   "id": "8bfba886",
   "metadata": {},
   "outputs": [
    {
     "ename": "SyntaxError",
     "evalue": "invalid syntax (1570069303.py, line 11)",
     "output_type": "error",
     "traceback": [
      "  \u001b[36mCell\u001b[39m\u001b[36m \u001b[39m\u001b[32mIn[81]\u001b[39m\u001b[32m, line 11\u001b[39m\n\u001b[31m    \u001b[39m\u001b[31mI = [for i in range(len(F_i))]\u001b[39m\n         ^\n\u001b[31mSyntaxError\u001b[39m\u001b[31m:\u001b[39m invalid syntax\n"
     ]
    }
   ],
   "source": [
    "F_i = pd.read_csv(RUTAS[\"F_i\"],index_col=None,header=None)[0].tolist()\n",
    "c_j = pd.read_csv(RUTAS[\"c_j\"],index_col=None,header=None)[0].tolist()\n",
    "rho_i = pd.read_csv(RUTAS[\"rho_i\"],index_col=None,header=None)[0].tolist()\n",
    "r_i = pd.read_csv(RUTAS[\"r_i\"],index_col=None,header=None)[0].tolist()\n",
    "b_j = pd.read_csv(RUTAS[\"b_j\"],index_col=None,header=None)[0].tolist()\n",
    "# a_ij = pd.read_csv(RUTAS[\"a_ij\"],index_col=None,header=None)[0].tolist()\n",
    "P_i = pd.read_csv(RUTAS[\"P_i\"],index_col=None,header=None)[0].tolist()\n",
    "\n"
   ]
  },
  {
   "cell_type": "code",
   "execution_count": 75,
   "id": "55c04f9a",
   "metadata": {},
   "outputs": [
    {
     "name": "stdout",
     "output_type": "stream",
     "text": [
      "[34, 26, 29, 28, 23, 37, 23, 25, 38]\n",
      "7,5\n",
      "   0  1  2  3  4  5  6  7  8\n",
      "0  0  1  2  1  2  0  2  1  0\n",
      "1  3  3  3  1  1  0  0  0  3\n",
      "2  1  2  2  1  0  1  2  0  2\n",
      "3  2  1  1  0  3  1  1  1  0\n",
      "0\n"
     ]
    }
   ],
   "source": [
    "print(rho_i)\n",
    "print(P_i[3])\n",
    "p = pd.read_csv(RUTAS[\"P_i\"],index_col=None,header=None)[0]\n",
    "p\n",
    "a = pd.read_csv(RUTAS[\"a_ij\"],index_col=None,header=None)\n",
    "print(a.T)\n",
    "new = a.T\n",
    "print(new[I-1][J-1])"
   ]
  },
  {
   "cell_type": "code",
   "execution_count": 79,
   "id": "4eedcf27",
   "metadata": {},
   "outputs": [
    {
     "name": "stdout",
     "output_type": "stream",
     "text": [
      "4\n",
      "2650\n"
     ]
    }
   ],
   "source": [
    "N = pd.read_csv(RUTAS[\"N\"],index_col=None,header=None)[0][0]\n",
    "W = pd.read_csv(RUTAS[\"W\"],index_col=None,header=None)[0][0]\n",
    "print(N)\n",
    "print(W)"
   ]
  },
  {
   "cell_type": "code",
   "execution_count": 100,
   "id": "e01babe7",
   "metadata": {},
   "outputs": [
    {
     "name": "stdout",
     "output_type": "stream",
     "text": [
      "0       [5]\n",
      "1        []\n",
      "2        []\n",
      "3    [7, 5]\n",
      "4       [4]\n",
      "5    [1, 8]\n",
      "6        []\n",
      "7        []\n",
      "8        []\n",
      "Name: P_i_list, dtype: object\n"
     ]
    }
   ],
   "source": [
    "import pandas as pd\n",
    "\n",
    "# 1. Cargo como string, sin descartar líneas vacías\n",
    "p = pd.read_csv(\n",
    "    RUTAS[\"P_i\"],\n",
    "    header=None,\n",
    "    names=[\"raw\"],\n",
    "    dtype=str,             # fuerza a string\n",
    "    skip_blank_lines=False # conserva \"\" como NaN que luego convertimos\n",
    ")\n",
    "\n",
    "# 2. Relleno NaN con cadena vacía\n",
    "p[\"raw\"] = p[\"raw\"].fillna(\"\")\n",
    "\n",
    "# 3. Convierto cada raw en lista de ints (o lista vacía si está vacío)\n",
    "def parse_list(cell):\n",
    "    # si está vacío, lista vacía\n",
    "    if cell.strip() == \"\":\n",
    "        return []\n",
    "    # split por coma, quito espacios y convierto a int\n",
    "    return [int(x.strip()) for x in cell.split(\",\")]\n",
    "\n",
    "p[\"P_i_list\"] = p[\"raw\"].apply(parse_list)\n",
    "\n",
    "# 4. Opcional: dejar sólo la columna de listas y el índice\n",
    "serie_listas = p[\"P_i_list\"]\n",
    "print(serie_listas)\n"
   ]
  },
  {
   "cell_type": "code",
   "execution_count": 104,
   "id": "c53abc86",
   "metadata": {},
   "outputs": [
    {
     "data": {
      "text/plain": [
       "7"
      ]
     },
     "execution_count": 104,
     "metadata": {},
     "output_type": "execute_result"
    }
   ],
   "source": [
    "serie_listas[3][0]"
   ]
  },
  {
   "cell_type": "code",
   "execution_count": 86,
   "id": "d1818113",
   "metadata": {},
   "outputs": [
    {
     "name": "stdout",
     "output_type": "stream",
     "text": [
      "1\n",
      "2\n",
      "3\n",
      "4\n",
      "5\n",
      "6\n",
      "7\n",
      "8\n"
     ]
    }
   ],
   "source": [
    "I = range(1,len(F_i))\n",
    "J = range(1,len(c_j))\n",
    "for i in I:\n",
    "    print(i)"
   ]
  },
  {
   "cell_type": "code",
   "execution_count": 95,
   "id": "c78d4198",
   "metadata": {},
   "outputs": [
    {
     "name": "stdout",
     "output_type": "stream",
     "text": [
      "1\n",
      "173\n",
      "2\n",
      "90\n",
      "3\n",
      "56\n",
      "4\n",
      "153\n",
      "5\n",
      "194\n",
      "6\n",
      "174\n",
      "7\n",
      "175\n",
      "8\n",
      "78\n",
      "9\n",
      "195\n"
     ]
    }
   ],
   "source": [
    "F_i = pd.read_csv(RUTAS[\"F_i\"],index_col=None,header=None)[0].tolist()\n",
    "c_j = pd.read_csv(RUTAS[\"c_j\"],index_col=None,header=None)[0].tolist()\n",
    "rho_i = pd.read_csv(RUTAS[\"rho_i\"],index_col=None,header=None)[0].tolist()\n",
    "r_i = pd.read_csv(RUTAS[\"r_i\"],index_col=None,header=None)[0].tolist()\n",
    "b_j = pd.read_csv(RUTAS[\"b_j\"],index_col=None,header=None)[0].tolist()\n",
    "a_ij = pd.read_csv(RUTAS[\"a_ij\"],index_col=None,header=None).T\n",
    "P_i = pd.read_csv(RUTAS[\"P_i\"],index_col=None,header=None)[0].tolist()\n",
    "\n",
    "N = pd.read_csv(RUTAS[\"N\"],index_col=None,header=None)[0][0]\n",
    "W = pd.read_csv(RUTAS[\"W\"],index_col=None,header=None)[0][0]\n",
    "I = range(1,len(F_i)+1)\n",
    "J = range(1,len(c_j)+1)\n",
    "\n",
    "F_i = pd.read_csv(RUTAS[\"F_i\"],index_col=None,header=None)[0]\n",
    "F_i.index = range(1, len(F_i) + 1)\n",
    "for i in I:\n",
    "    print(i)\n",
    "    print(F_i[i])\n",
    "\n",
    "\n"
   ]
  }
 ],
 "metadata": {
  "kernelspec": {
   "display_name": "gurobi-env",
   "language": "python",
   "name": "python3"
  },
  "language_info": {
   "codemirror_mode": {
    "name": "ipython",
    "version": 3
   },
   "file_extension": ".py",
   "mimetype": "text/x-python",
   "name": "python",
   "nbconvert_exporter": "python",
   "pygments_lexer": "ipython3",
   "version": "3.13.3"
  }
 },
 "nbformat": 4,
 "nbformat_minor": 5
}
