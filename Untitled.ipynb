{
 "cells": [
  {
   "cell_type": "code",
   "execution_count": 1,
   "id": "5acf6b30-4c0a-49de-acc6-ef232d1cab22",
   "metadata": {},
   "outputs": [],
   "source": [
    "import pandas as pd\n",
    "from os import path\n",
    "BASE_CSV = \"./csv\"\n",
    "RUTAS = {\n",
    "    \"F_i\": path.join(BASE_CSV, \"costo_fijo.csv\"),\n",
    "    \"c_j\": path.join(BASE_CSV, \"costo_material.csv\"),\n",
    "    \"rho_i\": path.join(BASE_CSV, \"costo_variable.csv\"),\n",
    "    \"r_i\": path.join(BASE_CSV, \"ingreso_por_unidad.csv\"),\n",
    "    \"b_j\": path.join(BASE_CSV, \"material_disponible.csv\"),\n",
    "    \"a_ij\": path.join(BASE_CSV, \"material_requerido.csv\"),\n",
    "    \"N\": path.join(BASE_CSV, \"maximo_productos.csv\"),\n",
    "    \"W\": path.join(BASE_CSV, \"presupuesto_materiales.csv\"),\n",
    "    \"P_i\": path.join(BASE_CSV, \"productos_prohibidos.csv\"),\n",
    "}"
   ]
  },
  {
   "cell_type": "code",
   "execution_count": 32,
   "id": "16e29627-ac5c-46c1-adc9-7de53bd656d3",
   "metadata": {},
   "outputs": [
    {
     "name": "stdout",
     "output_type": "stream",
     "text": [
      "[173, 90, 56, 153, 194, 174, 175, 78, 195]\n",
      "9\n"
     ]
    }
   ],
   "source": [
    "F_i = pd.read_csv(RUTAS[\"F_i\"],index_col=None,header=None)\n",
    "print(F_i[0].tolist())\n",
    "F_i = pd.read_csv(RUTAS[\"F_i\"],index_col=None,header=None)[0].tolist()\n",
    "print(len(F_i))"
   ]
  },
  {
   "cell_type": "code",
   "execution_count": 38,
   "id": "8bfba886",
   "metadata": {},
   "outputs": [],
   "source": [
    "F_i = pd.read_csv(RUTAS[\"F_i\"],index_col=None,header=None)[0].tolist()\n",
    "c_j = pd.read_csv(RUTAS[\"c_j\"],index_col=None,header=None)[0].tolist()\n",
    "rho_i = pd.read_csv(RUTAS[\"rho_i\"],index_col=None,header=None)[0].tolist()\n",
    "r_i = pd.read_csv(RUTAS[\"r_i\"],index_col=None,header=None)[0].tolist()\n",
    "b_j = pd.read_csv(RUTAS[\"b_j\"],index_col=None,header=None)[0].tolist()\n",
    "# a_ij = pd.read_csv(RUTAS[\"a_ij\"],index_col=None,header=None)[0].tolist()\n",
    "P_i = pd.read_csv(RUTAS[\"P_i\"],index_col=None,header=None)[0].tolist()\n",
    "\n",
    "I = len(F_i)\n",
    "J = len(c_j)"
   ]
  },
  {
   "cell_type": "code",
   "execution_count": 43,
   "id": "55c04f9a",
   "metadata": {},
   "outputs": [
    {
     "name": "stdout",
     "output_type": "stream",
     "text": [
      "[34, 26, 29, 28, 23, 37, 23, 25, 38]\n",
      "['5', nan, nan, '7,5', '4', '1,8', nan, nan, nan]\n"
     ]
    },
    {
     "data": {
      "text/plain": [
       "0      5\n",
       "1    NaN\n",
       "2    NaN\n",
       "3    7,5\n",
       "4      4\n",
       "5    1,8\n",
       "6    NaN\n",
       "7    NaN\n",
       "8    NaN\n",
       "Name: 0, dtype: object"
      ]
     },
     "execution_count": 43,
     "metadata": {},
     "output_type": "execute_result"
    }
   ],
   "source": [
    "print(rho_i)\n",
    "print(P_i)\n",
    "p = pd.read_csv(RUTAS[\"P_i\"],index_col=None,header=None)[0]\n",
    "p"
   ]
  }
 ],
 "metadata": {
  "kernelspec": {
   "display_name": "gurobi-env",
   "language": "python",
   "name": "python3"
  },
  "language_info": {
   "codemirror_mode": {
    "name": "ipython",
    "version": 3
   },
   "file_extension": ".py",
   "mimetype": "text/x-python",
   "name": "python",
   "nbconvert_exporter": "python",
   "pygments_lexer": "ipython3",
   "version": "3.13.3"
  }
 },
 "nbformat": 4,
 "nbformat_minor": 5
}
