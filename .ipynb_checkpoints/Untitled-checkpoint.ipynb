{
 "cells": [
  {
   "cell_type": "code",
   "execution_count": 1,
   "id": "5acf6b30-4c0a-49de-acc6-ef232d1cab22",
   "metadata": {},
   "outputs": [],
   "source": [
    "import pandas as pd\n",
    "from os import path\n",
    "BASE_CSV = \"./csv\"\n",
    "RUTAS = {\n",
    "    \"F_i\": path.join(BASE_CSV, \"costo_fijo.csv\"),\n",
    "    \"c_j\": path.join(BASE_CSV, \"costo_material.csv\"),\n",
    "    \"rho_i\": path.join(BASE_CSV, \"costo_variable.csv\"),\n",
    "    \"r_i\": path.join(BASE_CSV, \"ingreso_por_unidad.csv\"),\n",
    "    \"b_j\": path.join(BASE_CSV, \"material_disponible.csv\"),\n",
    "    \"a_ij\": path.join(BASE_CSV, \"material_requerido.csv\"),\n",
    "    \"N\": path.join(BASE_CSV, \"maximo_productos.csv\"),\n",
    "    \"W\": path.join(BASE_CSV, \"presupuesto_materiales.csv\"),\n",
    "    \"P_i\": path.join(BASE_CSV, \"productos_prohibidos.csv\"),\n",
    "}"
   ]
  },
  {
   "cell_type": "code",
   "execution_count": 4,
   "id": "16e29627-ac5c-46c1-adc9-7de53bd656d3",
   "metadata": {},
   "outputs": [
    {
     "ename": "TypeError",
     "evalue": "read_csv() got an unexpected keyword argument 'index'",
     "output_type": "error",
     "traceback": [
      "\u001b[31m---------------------------------------------------------------------------\u001b[39m",
      "\u001b[31mTypeError\u001b[39m                                 Traceback (most recent call last)",
      "\u001b[36mCell\u001b[39m\u001b[36m \u001b[39m\u001b[32mIn[4]\u001b[39m\u001b[32m, line 1\u001b[39m\n\u001b[32m----> \u001b[39m\u001b[32m1\u001b[39m F_i = \u001b[43mpd\u001b[49m\u001b[43m.\u001b[49m\u001b[43mread_csv\u001b[49m\u001b[43m(\u001b[49m\u001b[43mRUTAS\u001b[49m\u001b[43m[\u001b[49m\u001b[33;43m\"\u001b[39;49m\u001b[33;43mF_i\u001b[39;49m\u001b[33;43m\"\u001b[39;49m\u001b[43m]\u001b[49m\u001b[43m,\u001b[49m\u001b[43m \u001b[49m\u001b[43mindex\u001b[49m\u001b[43m=\u001b[49m\u001b[38;5;28;43;01mFalse\u001b[39;49;00m\u001b[43m)\u001b[49m\n\u001b[32m      2\u001b[39m F_i.head()\n",
      "\u001b[31mTypeError\u001b[39m: read_csv() got an unexpected keyword argument 'index'"
     ]
    }
   ],
   "source": [
    "F_i = pd.read_csv(RUTAS[\"F_i\"], index=False)\n",
    "F_i.head()"
   ]
  }
 ],
 "metadata": {
  "kernelspec": {
   "display_name": "Python 3 (ipykernel)",
   "language": "python",
   "name": "python3"
  },
  "language_info": {
   "codemirror_mode": {
    "name": "ipython",
    "version": 3
   },
   "file_extension": ".py",
   "mimetype": "text/x-python",
   "name": "python",
   "nbconvert_exporter": "python",
   "pygments_lexer": "ipython3",
   "version": "3.13.3"
  }
 },
 "nbformat": 4,
 "nbformat_minor": 5
}
